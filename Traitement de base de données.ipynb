{
 "cells": [
  {
   "cell_type": "code",
   "execution_count": 1,
   "metadata": {},
   "outputs": [],
   "source": [
    "# Importation des bibliothèques nécessaires\n",
    "import pandas as pd\n",
    "import numpy as np\n",
    "import matplotlib.pyplot as plt"
   ]
  },
  {
   "cell_type": "code",
   "execution_count": 3,
   "metadata": {},
   "outputs": [
    {
     "data": {
      "text/html": [
       "<div>\n",
       "<style scoped>\n",
       "    .dataframe tbody tr th:only-of-type {\n",
       "        vertical-align: middle;\n",
       "    }\n",
       "\n",
       "    .dataframe tbody tr th {\n",
       "        vertical-align: top;\n",
       "    }\n",
       "\n",
       "    .dataframe thead th {\n",
       "        text-align: right;\n",
       "    }\n",
       "</style>\n",
       "<table border=\"1\" class=\"dataframe\">\n",
       "  <thead>\n",
       "    <tr style=\"text-align: right;\">\n",
       "      <th></th>\n",
       "      <th>ID</th>\n",
       "      <th>City</th>\n",
       "      <th>Client</th>\n",
       "      <th>Address</th>\n",
       "      <th>Latitude</th>\n",
       "      <th>Longitude</th>\n",
       "    </tr>\n",
       "  </thead>\n",
       "  <tbody>\n",
       "    <tr>\n",
       "      <th>0</th>\n",
       "      <td>1</td>\n",
       "      <td>Casablanca</td>\n",
       "      <td>Client-001</td>\n",
       "      <td>Adresse-1 Rue-94</td>\n",
       "      <td>33.552736</td>\n",
       "      <td>-7.553708</td>\n",
       "    </tr>\n",
       "    <tr>\n",
       "      <th>1</th>\n",
       "      <td>2</td>\n",
       "      <td>Casablanca</td>\n",
       "      <td>Client-002</td>\n",
       "      <td>Adresse-2 Rue-85</td>\n",
       "      <td>33.614544</td>\n",
       "      <td>-7.627258</td>\n",
       "    </tr>\n",
       "    <tr>\n",
       "      <th>2</th>\n",
       "      <td>3</td>\n",
       "      <td>Casablanca</td>\n",
       "      <td>Client-003</td>\n",
       "      <td>Adresse-3 Rue-35</td>\n",
       "      <td>33.602453</td>\n",
       "      <td>-7.571399</td>\n",
       "    </tr>\n",
       "    <tr>\n",
       "      <th>3</th>\n",
       "      <td>4</td>\n",
       "      <td>Casablanca</td>\n",
       "      <td>Client-004</td>\n",
       "      <td>Adresse-4 Rue-68</td>\n",
       "      <td>33.564922</td>\n",
       "      <td>-7.649402</td>\n",
       "    </tr>\n",
       "    <tr>\n",
       "      <th>4</th>\n",
       "      <td>5</td>\n",
       "      <td>Casablanca</td>\n",
       "      <td>Client-005</td>\n",
       "      <td>Adresse-5 Rue-42</td>\n",
       "      <td>33.611536</td>\n",
       "      <td>-7.647532</td>\n",
       "    </tr>\n",
       "  </tbody>\n",
       "</table>\n",
       "</div>"
      ],
      "text/plain": [
       "   ID        City      Client           Address   Latitude  Longitude\n",
       "0   1  Casablanca  Client-001  Adresse-1 Rue-94  33.552736  -7.553708\n",
       "1   2  Casablanca  Client-002  Adresse-2 Rue-85  33.614544  -7.627258\n",
       "2   3  Casablanca  Client-003  Adresse-3 Rue-35  33.602453  -7.571399\n",
       "3   4  Casablanca  Client-004  Adresse-4 Rue-68  33.564922  -7.649402\n",
       "4   5  Casablanca  Client-005  Adresse-5 Rue-42  33.611536  -7.647532"
      ]
     },
     "execution_count": 3,
     "metadata": {},
     "output_type": "execute_result"
    }
   ],
   "source": [
    "# Charger un fichier CSV\n",
    "data = pd.read_csv(r'C:\\Users\\hp\\Downloads\\casablanca_delivery_dataset.csv')\n",
    "\n",
    "# Afficher les 5 premières lignes du dataset pour vérifier le contenu\n",
    "data.head()"
   ]
  },
  {
   "cell_type": "code",
   "execution_count": 4,
   "metadata": {},
   "outputs": [
    {
     "name": "stdout",
     "output_type": "stream",
     "text": [
      "Dimensions du dataset : (100, 6)\n"
     ]
    }
   ],
   "source": [
    "# Afficher la taille du dataset (nombre de lignes et de colonnes)\n",
    "print(\"Dimensions du dataset :\", data.shape)\n",
    "\n"
   ]
  },
  {
   "cell_type": "code",
   "execution_count": 5,
   "metadata": {},
   "outputs": [
    {
     "data": {
      "text/html": [
       "<div>\n",
       "<style scoped>\n",
       "    .dataframe tbody tr th:only-of-type {\n",
       "        vertical-align: middle;\n",
       "    }\n",
       "\n",
       "    .dataframe tbody tr th {\n",
       "        vertical-align: top;\n",
       "    }\n",
       "\n",
       "    .dataframe thead th {\n",
       "        text-align: right;\n",
       "    }\n",
       "</style>\n",
       "<table border=\"1\" class=\"dataframe\">\n",
       "  <thead>\n",
       "    <tr style=\"text-align: right;\">\n",
       "      <th></th>\n",
       "      <th>ID</th>\n",
       "      <th>Latitude</th>\n",
       "      <th>Longitude</th>\n",
       "    </tr>\n",
       "  </thead>\n",
       "  <tbody>\n",
       "    <tr>\n",
       "      <th>count</th>\n",
       "      <td>100.000000</td>\n",
       "      <td>100.000000</td>\n",
       "      <td>100.000000</td>\n",
       "    </tr>\n",
       "    <tr>\n",
       "      <th>mean</th>\n",
       "      <td>50.500000</td>\n",
       "      <td>33.579249</td>\n",
       "      <td>-7.597673</td>\n",
       "    </tr>\n",
       "    <tr>\n",
       "      <th>std</th>\n",
       "      <td>29.011492</td>\n",
       "      <td>0.024317</td>\n",
       "      <td>0.041421</td>\n",
       "    </tr>\n",
       "    <tr>\n",
       "      <th>min</th>\n",
       "      <td>1.000000</td>\n",
       "      <td>33.534649</td>\n",
       "      <td>-7.666254</td>\n",
       "    </tr>\n",
       "    <tr>\n",
       "      <th>25%</th>\n",
       "      <td>25.750000</td>\n",
       "      <td>33.557356</td>\n",
       "      <td>-7.631923</td>\n",
       "    </tr>\n",
       "    <tr>\n",
       "      <th>50%</th>\n",
       "      <td>50.500000</td>\n",
       "      <td>33.580881</td>\n",
       "      <td>-7.599594</td>\n",
       "    </tr>\n",
       "    <tr>\n",
       "      <th>75%</th>\n",
       "      <td>75.250000</td>\n",
       "      <td>33.600620</td>\n",
       "      <td>-7.560671</td>\n",
       "    </tr>\n",
       "    <tr>\n",
       "      <th>max</th>\n",
       "      <td>100.000000</td>\n",
       "      <td>33.615574</td>\n",
       "      <td>-7.530822</td>\n",
       "    </tr>\n",
       "  </tbody>\n",
       "</table>\n",
       "</div>"
      ],
      "text/plain": [
       "               ID    Latitude   Longitude\n",
       "count  100.000000  100.000000  100.000000\n",
       "mean    50.500000   33.579249   -7.597673\n",
       "std     29.011492    0.024317    0.041421\n",
       "min      1.000000   33.534649   -7.666254\n",
       "25%     25.750000   33.557356   -7.631923\n",
       "50%     50.500000   33.580881   -7.599594\n",
       "75%     75.250000   33.600620   -7.560671\n",
       "max    100.000000   33.615574   -7.530822"
      ]
     },
     "execution_count": 5,
     "metadata": {},
     "output_type": "execute_result"
    }
   ],
   "source": [
    "# Résumé statistique des colonnes numériques\n",
    "data.describe()"
   ]
  },
  {
   "cell_type": "code",
   "execution_count": 6,
   "metadata": {},
   "outputs": [
    {
     "data": {
      "text/plain": [
       "ID             int64\n",
       "City          object\n",
       "Client        object\n",
       "Address       object\n",
       "Latitude     float64\n",
       "Longitude    float64\n",
       "dtype: object"
      ]
     },
     "execution_count": 6,
     "metadata": {},
     "output_type": "execute_result"
    }
   ],
   "source": [
    "# Vérification des types de données dans chaque colonne\n",
    "data.dtypes"
   ]
  },
  {
   "cell_type": "code",
   "execution_count": 7,
   "metadata": {},
   "outputs": [
    {
     "data": {
      "text/plain": [
       "ID           0\n",
       "City         0\n",
       "Client       0\n",
       "Address      0\n",
       "Latitude     0\n",
       "Longitude    0\n",
       "dtype: int64"
      ]
     },
     "execution_count": 7,
     "metadata": {},
     "output_type": "execute_result"
    }
   ],
   "source": [
    "# Afficher les valeurs manquantes dans chaque colonne\n",
    "data.isnull().sum()"
   ]
  },
  {
   "cell_type": "code",
   "execution_count": 8,
   "metadata": {},
   "outputs": [
    {
     "data": {
      "text/plain": [
       "0"
      ]
     },
     "execution_count": 8,
     "metadata": {},
     "output_type": "execute_result"
    }
   ],
   "source": [
    "# Vérifier les doublons\n",
    "data.duplicated().sum()"
   ]
  },
  {
   "cell_type": "code",
   "execution_count": 9,
   "metadata": {},
   "outputs": [
    {
     "name": "stdout",
     "output_type": "stream",
     "text": [
      "Lignes avec Latitude = 0 :\n",
      "Empty DataFrame\n",
      "Columns: [ID, City, Client, Address, Latitude, Longitude]\n",
      "Index: []\n",
      "Lignes avec Longitude = 0 :\n",
      "Empty DataFrame\n",
      "Columns: [ID, City, Client, Address, Latitude, Longitude]\n",
      "Index: []\n"
     ]
    }
   ],
   "source": [
    "# Trouver les lignes où la latitude ou la longitude est égale à 0\n",
    "zero_latitude = data[data['Latitude'] == 0]\n",
    "zero_longitude = data[data['Longitude'] == 0]\n",
    "\n",
    "# Afficher les résultats\n",
    "print(\"Lignes avec Latitude = 0 :\")\n",
    "print(zero_latitude)\n",
    "\n",
    "print(\"Lignes avec Longitude = 0 :\")\n",
    "print(zero_longitude)\n"
   ]
  },
  {
   "cell_type": "code",
   "execution_count": 10,
   "metadata": {},
   "outputs": [
    {
     "name": "stdout",
     "output_type": "stream",
     "text": [
      "Lignes avec City vide :\n",
      "Empty DataFrame\n",
      "Columns: [ID, City, Client, Address, Latitude, Longitude]\n",
      "Index: []\n"
     ]
    }
   ],
   "source": [
    "# Vérifier les valeurs vides dans la colonne City\n",
    "empty_city = data[data['City'].isnull()]\n",
    "print(\"Lignes avec City vide :\")\n",
    "print(empty_city)\n"
   ]
  },
  {
   "cell_type": "code",
   "execution_count": 11,
   "metadata": {},
   "outputs": [
    {
     "name": "stdout",
     "output_type": "stream",
     "text": [
      "Outliers dans Latitude :\n",
      "Empty DataFrame\n",
      "Columns: [ID, City, Client, Address, Latitude, Longitude]\n",
      "Index: []\n",
      "Outliers dans Longitude :\n",
      "Empty DataFrame\n",
      "Columns: [ID, City, Client, Address, Latitude, Longitude]\n",
      "Index: []\n"
     ]
    }
   ],
   "source": [
    "# Calcul de l'IQR pour Latitude\n",
    "Q1_lat = data['Latitude'].quantile(0.25)\n",
    "Q3_lat = data['Latitude'].quantile(0.75)\n",
    "IQR_lat = Q3_lat - Q1_lat\n",
    "\n",
    "# Détecter les outliers pour Latitude\n",
    "outliers_lat = data[(data['Latitude'] < Q1_lat - 1.5 * IQR_lat) | (data['Latitude'] > Q3_lat + 1.5 * IQR_lat)]\n",
    "print(\"Outliers dans Latitude :\")\n",
    "print(outliers_lat)\n",
    "\n",
    "# Répéter pour Longitude\n",
    "Q1_lon = data['Longitude'].quantile(0.25)\n",
    "Q3_lon = data['Longitude'].quantile(0.75)\n",
    "IQR_lon = Q3_lon - Q1_lon\n",
    "\n",
    "outliers_lon = data[(data['Longitude'] < Q1_lon - 1.5 * IQR_lon) | (data['Longitude'] > Q3_lon + 1.5 * IQR_lon)]\n",
    "print(\"Outliers dans Longitude :\")\n",
    "print(outliers_lon)\n"
   ]
  },
  {
   "cell_type": "code",
   "execution_count": 12,
   "metadata": {},
   "outputs": [
    {
     "data": {
      "image/png": "[encoded data removed]",
      "text/plain": [
       "<Figure size 432x288 with 1 Axes>"
      ]
     },
     "metadata": {
      "needs_background": "light"
     },
     "output_type": "display_data"
    },
    {
     "data": {
      "image/png": "[encoded data removed]",
      "text/plain": [
       "<Figure size 432x288 with 1 Axes>"
      ]
     },
     "metadata": {
      "needs_background": "light"
     },
     "output_type": "display_data"
    }
   ],
   "source": [
    "import matplotlib.pyplot as plt\n",
    "\n",
    "# Distribution de Latitude\n",
    "plt.hist(data['Latitude'], bins=20, edgecolor='black', alpha=0.7)\n",
    "plt.title('Distribution de la Latitude')\n",
    "plt.xlabel('Latitude')\n",
    "plt.ylabel('Fréquence')\n",
    "plt.show()\n",
    "\n",
    "# Distribution de Longitude\n",
    "plt.hist(data['Longitude'], bins=20, edgecolor='black', alpha=0.7)\n",
    "plt.title('Distribution de la Longitude')\n",
    "plt.xlabel('Longitude')\n",
    "plt.ylabel('Fréquence')\n",
    "plt.show()\n"
   ]
  },
  {
   "cell_type": "code",
   "execution_count": 13,
   "metadata": {},
   "outputs": [
    {
     "name": "stderr",
     "output_type": "stream",
     "text": [
      "c:\\Users\\hp\\anaconda3\\lib\\site-packages\\seaborn\\_decorators.py:36: FutureWarning: Pass the following variable as a keyword arg: x. From version 0.12, the only valid positional argument will be `data`, and passing other arguments without an explicit keyword will result in an error or misinterpretation.\n",
      "  warnings.warn(\n"
     ]
    },
    {
     "data": {
      "image/png": "[encoded data removed]",
      "text/plain": [
       "<Figure size 432x288 with 1 Axes>"
      ]
     },
     "metadata": {
      "needs_background": "light"
     },
     "output_type": "display_data"
    },
    {
     "name": "stderr",
     "output_type": "stream",
     "text": [
      "c:\\Users\\hp\\anaconda3\\lib\\site-packages\\seaborn\\_decorators.py:36: FutureWarning: Pass the following variable as a keyword arg: x. From version 0.12, the only valid positional argument will be `data`, and passing other arguments without an explicit keyword will result in an error or misinterpretation.\n",
      "  warnings.warn(\n"
     ]
    },
    {
     "data": {
      "image/png": "[encoded data removed]",
      "text/plain": [
       "<Figure size 432x288 with 1 Axes>"
      ]
     },
     "metadata": {
      "needs_background": "light"
     },
     "output_type": "display_data"
    }
   ],
   "source": [
    "import seaborn as sns\n",
    "\n",
    "# Boxplot pour Latitude\n",
    "sns.boxplot(data['Latitude'])\n",
    "plt.title('Boxplot de la Latitude')\n",
    "plt.show()\n",
    "\n",
    "# Boxplot pour Longitude\n",
    "sns.boxplot(data['Longitude'])\n",
    "plt.title('Boxplot de la Longitude')\n",
    "plt.show()\n"
   ]
  },
  {
   "cell_type": "code",
   "execution_count": 14,
   "metadata": {},
   "outputs": [
    {
     "data": {
      "image/png": "[encoded data removed]",
      "text/plain": [
       "<Figure size 432x288 with 1 Axes>"
      ]
     },
     "metadata": {
      "needs_background": "light"
     },
     "output_type": "display_data"
    }
   ],
   "source": [
    "sns.kdeplot(data['Latitude'], shade=True, color='blue', label='Latitude')\n",
    "sns.kdeplot(data['Longitude'], shade=True, color='green', label='Longitude')\n",
    "plt.title('Densité de Latitude et Longitude')\n",
    "plt.legend()\n",
    "plt.show()\n"
   ]
  }
 ],
 "metadata": {
  "kernelspec": {
   "display_name": "base",
   "language": "python",
   "name": "python3"
  },
  "language_info": {
   "codemirror_mode": {
    "name": "ipython",
    "version": 3
   },
   "file_extension": ".py",
   "mimetype": "text/x-python",
   "name": "python",
   "nbconvert_exporter": "python",
   "pygments_lexer": "ipython3",
   "version": "3.9.12"
  }
 },
 "nbformat": 4,
 "nbformat_minor": 2
}
